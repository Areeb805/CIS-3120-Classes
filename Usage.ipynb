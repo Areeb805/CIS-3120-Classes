{
 "cells": [
  {
   "cell_type": "code",
   "execution_count": 1,
   "id": "6b88b4bc-a5c4-436d-9eed-8e95600f6d53",
   "metadata": {
    "editable": true,
    "slideshow": {
     "slide_type": ""
    },
    "tags": []
   },
   "outputs": [],
   "source": [
    "from Animal import Animal"
   ]
  },
  {
   "cell_type": "code",
   "execution_count": 3,
   "id": "ac2fd065-fb75-4a6a-8e4f-aac3483b7289",
   "metadata": {},
   "outputs": [
    {
     "name": "stdout",
     "output_type": "stream",
     "text": [
      "Hello, I am Joe\n",
      "Hi\n",
      "Joe is eating grass\n",
      "Joe is sleeping\n",
      "Joe is moving around\n",
      "Joe is playing\n"
     ]
    }
   ],
   "source": [
    "# Usage cases\n",
    "x = Animal(\"Joe\")\n",
    "x.talk() \n",
    "x.eat(\"grass\") \n",
    "x.sleep()      \n",
    "x.move()       \n",
    "x.play()       \n"
   ]
  },
  {
   "cell_type": "code",
   "execution_count": null,
   "id": "e3114ec0-3ac6-4277-a9af-5b8c709373c7",
   "metadata": {},
   "outputs": [],
   "source": []
  }
 ],
 "metadata": {
  "kernelspec": {
   "display_name": "Python 3 (ipykernel)",
   "language": "python",
   "name": "python3"
  },
  "language_info": {
   "codemirror_mode": {
    "name": "ipython",
    "version": 3
   },
   "file_extension": ".py",
   "mimetype": "text/x-python",
   "name": "python",
   "nbconvert_exporter": "python",
   "pygments_lexer": "ipython3",
   "version": "3.12.4"
  }
 },
 "nbformat": 4,
 "nbformat_minor": 5
}
